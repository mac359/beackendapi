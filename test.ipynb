{
 "cells": [
  {
   "cell_type": "code",
   "execution_count": 1,
   "metadata": {},
   "outputs": [
    {
     "data": {
      "text/plain": [
       "<pytube.__main__.YouTube object: videoId=BzhCVYRFyag>"
      ]
     },
     "execution_count": 1,
     "metadata": {},
     "output_type": "execute_result"
    }
   ],
   "source": [
    "from pytube import YouTube\n",
    "\n",
    "yt = YouTube(\"https://youtu.be/BzhCVYRFyag\")\n",
    "yt"
   ]
  },
  {
   "cell_type": "code",
   "execution_count": 4,
   "metadata": {},
   "outputs": [
    {
     "data": {
      "text/plain": [
       "<youtube_transcript_api._transcripts.TranscriptList at 0x7ff19efd7d90>"
      ]
     },
     "execution_count": 4,
     "metadata": {},
     "output_type": "execute_result"
    }
   ],
   "source": [
    "from youtube_transcript_api import YouTubeTranscriptApi\n",
    "\n",
    "transcript_list = YouTubeTranscriptApi.list_transcripts(yt.video_id)\n",
    "transcript_list\n"
   ]
  },
  {
   "cell_type": "code",
   "execution_count": 5,
   "metadata": {},
   "outputs": [
    {
     "name": "stdout",
     "output_type": "stream",
     "text": [
      "Italian (auto-generated)\n"
     ]
    }
   ],
   "source": [
    "for transcript in transcript_list:\n",
    "    print(transcript.language)"
   ]
  },
  {
   "cell_type": "code",
   "execution_count": 6,
   "metadata": {},
   "outputs": [],
   "source": [
    "from bs4 import BeautifulSoup, Comment\n",
    "import re\n",
    "import requests\n",
    "\n",
    "def tag_visible(element):\n",
    "    if element.parent.name in ['style', 'script', 'head', 'title', 'meta', '[document]']:\n",
    "        return False\n",
    "    if isinstance(element, Comment):\n",
    "        return False\n",
    "    return True\n",
    "\n",
    "def add_line_breaks(text):\n",
    "    patterns = [\n",
    "        r'(?<=[a-z])\\n(?=[A-Z])',  \n",
    "        r'(?<=\\.)\\s(?=[A-Z])',\n",
    "        r'(?<=\\d)\\n(?=[A-Z])',\n",
    "        r'(?<=\\”)\\s(?=[A-Z])',  \n",
    "        r'\\n\\n',\n",
    "    ]\n",
    "\n",
    "    for pattern in patterns:\n",
    "        text = re.sub(pattern, \"\\n\", text)\n",
    "\n",
    "    if text:\n",
    "        return text\n",
    "    else:\n",
    "        return \"\"\n",
    "       "
   ]
  },
  {
   "cell_type": "code",
   "execution_count": 7,
   "metadata": {},
   "outputs": [],
   "source": [
    "\n",
    "\n",
    "url = \"https://amp24.ilsole24ore.com/pagina/AFQnsvpB\"\n",
    "r = requests.get(url)\n",
    "soup = BeautifulSoup(r.text, \"html.parser\")\n",
    "texts = soup.findAll(string=True)\n",
    "visible_texts = filter(tag_visible, texts)\n",
    "text_content = u\" \".join(t.strip() for t in visible_texts)\n",
    "text_with_breaks = add_line_breaks(text_content)"
   ]
  },
  {
   "cell_type": "code",
   "execution_count": 10,
   "metadata": {},
   "outputs": [],
   "source": [
    "if len(text_with_breaks) > 8000:\n",
    "    text_with_breaks = text_with_breaks[0:10000]"
   ]
  },
  {
   "cell_type": "code",
   "execution_count": 11,
   "metadata": {},
   "outputs": [
    {
     "data": {
      "text/plain": [
       "\"HomePage Sezioni Italia Mondo Economia Finanza Mercati Finanza Personale Norme & Tributi Arteconomy Commenti Cultura Food HTSI Management Moda Motori Real Estate Salute Scuola Sostenibilità Sport Tecnologia Viaggi IL Magazine Radiocor Finanza Personale Video Eventi Ricerche e Studi Esperto Risponde Social 24+ Finanza Quotate Italia Quotate Mondo Business Fintech & startup Lettera al risparmiatore Commodities Criptovalute Opinioni Mercati+ Finanza Personale by Plus24 Investimenti Prestiti e Mutui Pensioni e Polizze Risparmi e Consumi Norme e Tasse Professionisti e PMI Educazione Finanziaria La posta di Plus 24 I webinar di Plus 24 Mercati Azioni Obbligazioni Tassi e Valute Fondi e ETF Derivati CW & Certificates Materie Prime Dati Macroeconomici Strumenti Magazine HTSI 24Hours Video Tutti i video Naviga Serie Brand Connect Gallery Podcast Lab 24 Newsletter Market Mover Morning24 Coronavirus, il punto Alleyweek Domenica Lifestyle Pensioni24 Agrisole Scuola 24 T24 Anteprima NT+Fisco Il Quotidiano del Lavoro NT+Diritto NT+Enti Locali & Edilizia Sanità24 Quotidiano Condominio Dossier Ebook Per i professionisti Norme & Tributi Plus NT+ Fisco NT+ Diritto NT+ Lavoro NT+ Condominio NT+ Enti Locali & Edilizia Soluzioni Partner 24 ORE Banche Dati Software Periodici Libri e Guide operative Notiziari e Progetti Speciali Aree tematiche Fisco Lavoro Diritto Tecnici Pubblica Amministrazione Finanza Quotidiani digitali Sanità24 Scuola24 Agrisole Radio 24 Palinsesto Podcast Programmi Conduttori Sole 24 Ore Formazione Radiocor Shopping24 Mudec In edicola Link utili Shopping24 L'Esperto risponde Strumenti Ticket 24 ORE Consigli24 Blog Meteo Codici sconto 24ORE POINT Pubblicità Tribunali e PA Case e Appartamenti Trust Project Mondo Pubblicità Mondo Guerra Israele-Hamas.\\nHamas: «60 gli ostaggi israeliani uccisi dai raid su Gaza, morti i bimbi Kfir e Ariel» a cura di Vittorio Nuti Fra Israele e Hamas altri 2 giorni di tregua, continuano gli scambi Fonti vicine ad Hamas segnalano che il gruppo islamista intende proporre quattro giorni aggiuntivi alla tregua in corso, dicendosi disponibile a rilasciare altri ostaggi in cambio di detenuti palestinesi.\\nIsraele ha ricevuto l’elenco del sesto gruppo di ostaggi che dovrebbe essere liberato oggi.\\nIl monito di Biden, che sembra indicare un mutamento nella posizione Usa su Gaza: “Continuare sulla strada del terrore, della violenza, degli omicidi e della guerra significa dare a Hamas ciò che cerca.\\nNon possiamo farlo”.\\nPrevista oggi una riunione del Consiglio di sicurezza Onu sulla crisi Kiev accusa Mosca per l’avvelenamento della moglie del capo dell’intelligence militare ucraina Budanov 29 novembre 2023 Pubblicità Hamas: pronti a scambiare tutti i soldati israeliani prigionieri in cambio dei palestinesi Hamas si dice pronto a scambiare tutti i soldati israeliani prigionieri contro tutti i palestinesi detenuti nelle carceri di Israele. «Siamo pronti a liberare tutti i soldati in cambio di tutti i nostri prigionieri», ha detto Bassem Naim, alto responsabile di Hamas ed ex ministro della Salute della Striscia di Gaza, in una conferenza stampa a Città del Capo, in Sudafrica.\\nL'Iran impicca altri due oppositori Sono stati messi a morte per impiccagione in Iran altri due oppositori politici: si tratta di Hani Alboshahbazi, arrestato nel corso delle proteste del 2019, e Ayoub Karimi, fermato nella città curda di Mahabad nel 2009.\\nIn entrambi i casi gli attivisti per i diritti umani denunciano confessioni estorte tramite tortura e processi farsa.\\nSempre oggi sono state eseguite le condanne a morte di altre sei persone, tutti curdi accusati di corruzione e complicità con Karimi nell'uccisione di un religioso.\\nLa vicepresidente Usa Harris alla Cop28 al posto di Biden La Casa Bianca ha annunciato che Kamala Harris si recherà a Dubai l'1 e il 2 dicembre per rappresentare gli Stati Uniti alla conferenza COP 28 sulla lotta al cambiamento climatico. “La vice presidente sottolineerà il successo dell'amministrazione nel portare avanti l'agenda climatica più ambiziosa della storia, sia in patria che all'estero”, ha dichiarato in una nota la portavoce di Harris, Kirsten Allen, sottolineando che la numero 2 di Biden sarà accompagnata da una delegazione di circa 20 alti funzionari.\\nFonte Israele, “ritardo tecnico in rilascio degli ostaggi”\\nIl ritardo nel rilascio degli ostaggi previsto per oggi “è puramente tecnico.\\nLa liberazione avverrà”.\\nLo ha detto una fonte israeliana, citata da Ynet.\\nEx ostaggio thailandese, “gli israeliani venivano picchiati”\\nUn thailandese che era stato catturato da Hamas e liberato nei giorni scorsi ha riferito a Channel 12, ripreso da Haaretz, che gli ostaggi israeliani che erano con lui “venivano trattati molto rudemente, a volte venivano picchiati” dai loro carcerieri, “anche con i cavi elettrici”.\\nL'uomo ha inoltre raccontato che in prigionia c'era poco da mangiare per gli ostaggi: una pita al giorno, a volte un po' di tonno da dividere in quattro, o un pezzo di formaggio.\\nIn 7 settimane nelle mani di Hamas, gli è stato consentito di fare la doccia una sola volta.\\nMedia, “Blinken ripartirà da Skopje già in serata”\\nSecondo i media macedoni, il segretario di Stato Usa Antony Blinken, giunto nel pomeriggio a Skopje per il vertice Osce, ripartirà già in serata subito dopo la cena informale organizzata alla vigilia dell'inizio dei lavori domattina.\\nIl ministro degli esteri russo Serghiei Lavrov dovrebbe arrivare nella capitale macedone dopo la partenza di Blinken, a conferma che non vi sarà alcun contatto tra i due.\\nBlinken ha incontrato a Skopje il premier macedone Dimitar Kovacevski e il ministro degli esteri Bujar Osmani, ai quali ha ribadito la piena solidarietà degli Stati Uniti al processo di integrazione euroatlantica della Macedonia del Nord, esprimendo apprezzamento per l'ottimo lavoro svolto nel corso della presidenza annuale dell'Osce.\\nNuova bozza risoluzione su Gaza al Consiglio di Sicurezza Onu Un nuova bozza di risoluzione su Gaza preparata dai Paesi arabi è al vaglio del Consiglio di Sicurezza Onu e potrebbe essere messa al voto entro pochi giorni.\\nLo riferiscono fonti diplomatiche del Palazzo di Vetro, secondo cui il testo chiede una tregua umanitaria immediata, permanente e continua che porti alla cessazione delle ostilità.\\nInoltre si prevede l'apertura di nuove rotte per le agenzie umanitarie delle Nazioni Unite da e verso la Striscia, compreso il porto marittimo di Gaza e i valichi terrestri, in particolare Kerem Shalom, e continuando a utilizzare il valico di Rafah, per espandere l'accesso agli aiuti umanitari.\\nGli aiuti devono includere carburante, cibo, forniture mediche e ripari e devono raggiungere tutta la Striscia in coordinamento con l'Autorità Palestinese.\\nInoltre, si chiede di istituire urgentemente un meccanismo di monitoraggio a Gaza sotto l'autorità del segretario generale Onu per monitorare le operazioni umanitarie.\\nOms, “a Gaza operativi 15 ospedali su 36, sopraffatti e a rischio infettivo” “La più grande preoccupazione dell'Organizzazione mondiale della sanità resta quella di sostenere il funzionamento del sistema sanitario e l'attività degli operatori sanitari di Gaza”, dove “solo 15 dei 36 ospedali sono ancora funzionanti, ma sono completamente sopraffatti”.\\nE' il quadro descritto dal direttore generale dell'Oms, Tedros Adhanom Ghebreyesus, durante il periodico briefing alla stampa. “L'ospedale europeo di Gaza, per esempio, attualmente opera al triplo della sua capacità”, sottolinea. “Dei 25 ospedali a nord di Wadi Gaza attivi prima dell'inizio del conflitto, solo 3 funzionano al livello più elementare, ma mancano di carburante, acqua e cibo.\\nCiò che resta del sistema sanitario dell'enclave palestinese ”deve essere protetto, supportato e ampliato”, esorta il Dg. “I bisogni sanitari della popolazione di Gaza sono aumentati drammaticamente, ma ora vengono soddisfatti da un terzo degli ospedali e delle cliniche di assistenza primaria.\\nE con il grave sovraffollamento - avverte - aumentano i rischi di epidemie di infezioni del tratto respiratorio, diarrea acuta, epatite, scabbia, pidocchi e altre malattie”. “L'Oms sta lavorando per sostenere il sistema sanitario e gli operatori sanitari di Gaza in ogni modo possibile”, assicura il numero uno dell'agenzia. “Insieme ai partner stiamo distribuendo forniture, coordinando squadre mediche di emergenza e creando ospedali da campo autonomi in posizioni strategiche.\\nRingraziamo i nostri partner, ma ripetiamo che le squadre mediche di emergenza e gli ospedali da campo possono solo integrare il sistema sanitario di Gaza, non sostituirlo.\\nLa priorità - ammonisce - deve essere quella di sostenere gli operatori sanitari, gli ospedali e le cliniche di Gaza nello svolgimento del proprio lavoro”.\\nHamas, “60 gli ostaggi israeliani uccisi dai raid su Gaza”\\nSarebbero una sessantina gli ostaggi israeliani morti a Gaza a causa dei bombardamenti.\\nLo ha detto Bassem Naim, funzionario di Hamas ed ex ministro della Sanità di Gaza, in una conferenza stampa a Città del Capo, parlando della morte del piccolo Kfir, della sua mamma e del suo fratellino. “Abbiamo confermato due o tre settimane fa che 60 israeliani sono stati uccisi sotto i bombardamenti israeliani e sono ancora sotto le macerie”, ha detto Naim, precisando che “la donna e i suoi due figli sono tra loro, posso confermarlo”.\\nIsraele: uccisi tre palestinesi a Gaza L’esercito israeliano ha ucciso tre palestinesi a Gaza.\\nLo ha fatto sapere il portavoce militare Daniel Hagari secondo cui i tre «minacciavano le forze israeliane».\\nBrusca risalita dell’Hiv in Ue: +30% Dopo un netto calo negli anni segnati da Covid-19, nel 2022 le diagnosi di Hiv nei Paesi dell’Unione Europea e dello Spazio economico europeo hanno registrato un brusco aumento.\\nSecondo il rapporto ’Hiv/Aids surveillance in Europe’ redatto dallo European Centre for Disease Prevention and Control e dall’Organizzazione Mondiale della Sanità, lo scorso anno sono stati 22.995 i nuovi casi di infezione diagnosticati, pari\""
      ]
     },
     "execution_count": 11,
     "metadata": {},
     "output_type": "execute_result"
    }
   ],
   "source": [
    "text_with_breaks"
   ]
  },
  {
   "cell_type": "code",
   "execution_count": null,
   "metadata": {},
   "outputs": [],
   "source": []
  },
  {
   "cell_type": "markdown",
   "metadata": {},
   "source": [
    "`What is the derivative of the sine function?`\n",
    "\n",
    "$$ \\frac{d}{dx}(\\sin x) = \\cos x $$\n"
   ]
  },
  {
   "cell_type": "markdown",
   "metadata": {},
   "source": [
    "| Steps | Process                                           |\n",
    "|-------|---------------------------------------------------|\n",
    "| 1     | Introduction to Tower of Hanoi                     |\n",
    "| 2     | Explain puzzle origins and associated myths        |\n",
    "| 3     | Overview of puzzle rules and goals                 |\n",
    "| 4     | Demonstrate the minimum move formula \\(2^n - 1\\)   |\n",
    "| 5     | Discuss iterative vs recursive solution methods   |\n",
    "| 6     | Examining variations and real-world applications   |\n"
   ]
  },
  {
   "cell_type": "markdown",
   "metadata": {},
   "source": [
    "| Steps | Process |\n",
    "|-------|---------|\n",
    "| 1 | Introduction to Tower of Hanoi |\n",
    "| 2 | Explain puzzle origins and associated myths |\n",
    "| 3 | Overview of puzzle rules and goals |\n",
    "| 4 | Demonstrate the minimum move formula 2^n − 1 |\n",
    "| 5 | Discuss iterative vs recursive solution methods |\n",
    "| 6 | Examining variations and real-world applications |"
   ]
  },
  {
   "cell_type": "code",
   "execution_count": 1,
   "metadata": {},
   "outputs": [],
   "source": [
    "import stripe\n",
    "stripe.api_key = \"rk_test_51OVEYzANOfg5excPyckXNkhfqrYDM7wT0lKY0eyRt5J5Ak8NRbK9aftneSmdHhqTOrR2BWnEQNTx5IUN5iwhYf38008wl244GZ\""
   ]
  },
  {
   "cell_type": "code",
   "execution_count": 1,
   "metadata": {},
   "outputs": [],
   "source": [
    "from youtube_transcript_api import YouTubeTranscriptApi\n",
    "\n",
    "video_id = \"GXOo8hCX1W0\"\n",
    "available_transcripts = YouTubeTranscriptApi.list_transcripts(video_id)"
   ]
  },
  {
   "cell_type": "code",
   "execution_count": 13,
   "metadata": {},
   "outputs": [
    {
     "ename": "AttributeError",
     "evalue": "'TranscriptList' object has no attribute 'get_transcript'",
     "output_type": "error",
     "traceback": [
      "\u001b[0;31m---------------------------------------------------------------------------\u001b[0m",
      "\u001b[0;31mAttributeError\u001b[0m                            Traceback (most recent call last)",
      "Cell \u001b[0;32mIn[13], line 1\u001b[0m\n\u001b[0;32m----> 1\u001b[0m \u001b[43mavailable_transcripts\u001b[49m\u001b[38;5;241;43m.\u001b[39;49m\u001b[43mget_transcript\u001b[49m(\u001b[38;5;124m\"\u001b[39m\u001b[38;5;124mes\u001b[39m\u001b[38;5;124m\"\u001b[39m)\n",
      "\u001b[0;31mAttributeError\u001b[0m: 'TranscriptList' object has no attribute 'get_transcript'"
     ]
    }
   ],
   "source": [
    "available_transcripts.get_transcript(\"es\")"
   ]
  },
  {
   "cell_type": "code",
   "execution_count": null,
   "metadata": {},
   "outputs": [],
   "source": []
  }
 ],
 "metadata": {
  "kernelspec": {
   "display_name": "gaurav",
   "language": "python",
   "name": "python3"
  },
  "language_info": {
   "codemirror_mode": {
    "name": "ipython",
    "version": 3
   },
   "file_extension": ".py",
   "mimetype": "text/x-python",
   "name": "python",
   "nbconvert_exporter": "python",
   "pygments_lexer": "ipython3",
   "version": "3.9.18"
  }
 },
 "nbformat": 4,
 "nbformat_minor": 2
}
